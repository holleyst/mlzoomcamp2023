{
  "nbformat": 4,
  "nbformat_minor": 0,
  "metadata": {
    "colab": {
      "provenance": []
    },
    "kernelspec": {
      "name": "python3",
      "display_name": "Python 3"
    },
    "language_info": {
      "name": "python"
    }
  },
  "cells": [
    {
      "cell_type": "markdown",
      "source": [
        "## Machine Learning Zoomcamp - Homework 1 - Holley St. Germain\n",
        "\n",
        "I used Google Colab: https://colab.research.google.com/github/holleyst/mlzoomcamp2023/blob/main/mlzc_hw1.ipynb\n",
        "\n",
        "Github: https://github.com/holleyst/mlzoomcamp2023/blob/main/mlzc_hw1.ipynb\n"
      ],
      "metadata": {
        "id": "iDcncbggiSdC"
      }
    },
    {
      "cell_type": "markdown",
      "source": [
        "Q1: What's the version of Pandas that you installed?\n",
        "\n",
        "A1: 1.5.3"
      ],
      "metadata": {
        "id": "v7Onb4F0jDrQ"
      }
    },
    {
      "cell_type": "code",
      "source": [
        "import numpy as np\n",
        "import pandas as pd\n",
        "\n",
        "pd.__version__"
      ],
      "metadata": {
        "colab": {
          "base_uri": "https://localhost:8080/",
          "height": 35
        },
        "id": "JJ37h7SqjKJk",
        "outputId": "2687d0d8-5190-47dd-e828-81852cd1965f"
      },
      "execution_count": 2,
      "outputs": [
        {
          "output_type": "execute_result",
          "data": {
            "text/plain": [
              "'1.5.3'"
            ],
            "application/vnd.google.colaboratory.intrinsic+json": {
              "type": "string"
            }
          },
          "metadata": {},
          "execution_count": 2
        }
      ]
    },
    {
      "cell_type": "markdown",
      "source": [
        "Q2: How many columns are in the dataset?\n",
        "\n",
        "A2: 10"
      ],
      "metadata": {
        "id": "SeZaImBBjqVa"
      }
    },
    {
      "cell_type": "code",
      "source": [
        "url = 'https://raw.githubusercontent.com/alexeygrigorev/datasets/master/housing.csv'\n",
        "data = pd.read_csv(url)\n",
        "df = pd.DataFrame(data)\n",
        "df.shape[1]"
      ],
      "metadata": {
        "colab": {
          "base_uri": "https://localhost:8080/"
        },
        "id": "ZQWXz-T2jxlr",
        "outputId": "ff871949-b046-4767-f208-2e9c3f39ab70"
      },
      "execution_count": 9,
      "outputs": [
        {
          "output_type": "execute_result",
          "data": {
            "text/plain": [
              "10"
            ]
          },
          "metadata": {},
          "execution_count": 9
        }
      ]
    },
    {
      "cell_type": "markdown",
      "source": [
        "Q3: Which columns in the dataset have missing values?\n",
        "\n",
        "A3: total_bedrooms\n"
      ],
      "metadata": {
        "id": "9-RulqsVpLXN"
      }
    },
    {
      "cell_type": "code",
      "source": [
        "df_find_missing = df.dropna(how='all').dropna(how='all', axis=1)\n",
        "for col, val in df_find_missing.isnull().any().to_dict().items():\n",
        "  if val is True:\n",
        "    print(col)"
      ],
      "metadata": {
        "colab": {
          "base_uri": "https://localhost:8080/"
        },
        "id": "1v17-SPqpSt8",
        "outputId": "bb7877b2-bf37-40d9-ec84-f1888faa73b2"
      },
      "execution_count": 37,
      "outputs": [
        {
          "output_type": "stream",
          "name": "stdout",
          "text": [
            "total_bedrooms\n"
          ]
        }
      ]
    },
    {
      "cell_type": "markdown",
      "source": [
        "Q4: How many unique values does the ocean_proximity column have?\n",
        "\n",
        "A4: 5"
      ],
      "metadata": {
        "id": "ukrYj0iduiO5"
      }
    },
    {
      "cell_type": "code",
      "source": [
        "df.ocean_proximity.nunique()"
      ],
      "metadata": {
        "colab": {
          "base_uri": "https://localhost:8080/"
        },
        "id": "f14rmf7OusHA",
        "outputId": "9c351bb4-8669-4cb6-a72e-77d7d9e461fc"
      },
      "execution_count": 40,
      "outputs": [
        {
          "output_type": "execute_result",
          "data": {
            "text/plain": [
              "5"
            ]
          },
          "metadata": {},
          "execution_count": 40
        }
      ]
    },
    {
      "cell_type": "markdown",
      "source": [
        "Q5: What's the average value of the median_house_value for the houses located near the bay?\n",
        "\n",
        "A5: 259212"
      ],
      "metadata": {
        "id": "1RexP9BCv-Gk"
      }
    },
    {
      "cell_type": "code",
      "source": [
        "round(df.loc[df['ocean_proximity'] == 'NEAR BAY'].median_house_value.mean())"
      ],
      "metadata": {
        "colab": {
          "base_uri": "https://localhost:8080/"
        },
        "id": "95ZnGI5qwEtX",
        "outputId": "90c7cb47-3eca-4429-e728-c929ba477db8"
      },
      "execution_count": 59,
      "outputs": [
        {
          "output_type": "execute_result",
          "data": {
            "text/plain": [
              "259212"
            ]
          },
          "metadata": {},
          "execution_count": 59
        }
      ]
    },
    {
      "cell_type": "markdown",
      "source": [
        "Q6:\n",
        "\n",
        "1.   Calculate the average of total_bedrooms column in the dataset.\n",
        "2.   Use the fillna method to fill the missing values in total_bedrooms with the mean value from the previous step.\n",
        "3.   Now, calculate the average of total_bedrooms again.\n",
        "4.   Has it changed?\n",
        "\n",
        "A6:\n",
        "* mean before fillna: 537.871\n",
        "* mean after fillna: 537.871\n",
        "* no change\n",
        "\n",
        "\n",
        "\n"
      ],
      "metadata": {
        "id": "bD96GW-dzUgA"
      }
    },
    {
      "cell_type": "code",
      "source": [
        "mean1 = round(df.total_bedrooms.mean(), 3)\n",
        "df.total_bedrooms = df.total_bedrooms.fillna(df.total_bedrooms.mean())\n",
        "mean2 = round(df.total_bedrooms.mean(), 3)\n",
        "changed = mean1 != mean2\n",
        "print(mean1, mean2, changed)"
      ],
      "metadata": {
        "colab": {
          "base_uri": "https://localhost:8080/"
        },
        "id": "MZNQIJkYzmIK",
        "outputId": "34d1ebee-06db-41d4-f568-aa783dfa7587"
      },
      "execution_count": 58,
      "outputs": [
        {
          "output_type": "stream",
          "name": "stdout",
          "text": [
            "537.871 537.871 False\n"
          ]
        }
      ]
    },
    {
      "cell_type": "markdown",
      "source": [
        "Q7:\n",
        "\n",
        "1.   Select all the options located on islands.\n",
        "2.   Select only columns housing_median_age, total_rooms, total_bedrooms.\n",
        "3.   Get the underlying NumPy array. Let's call it X.\n",
        "4.   Compute matrix-matrix multiplication between the transpose of X and X. To get the transpose, use X.T. Let's call the result XTX.\n",
        "5.   Compute the inverse of XTX.\n",
        "6.   Create an array y with values [950, 1300, 800, 1000, 1300].\n",
        "7.   Multiply the inverse of XTX with the transpose of X, and then multiply the result by y. Call the result w.\n",
        "8.   What's the value of the last element of w?\n",
        "\n",
        "A7: 5.6992\n",
        "\n"
      ],
      "metadata": {
        "id": "KkigiYh73VvI"
      }
    },
    {
      "cell_type": "code",
      "source": [
        "X = df.loc[df['ocean_proximity'] == 'ISLAND'][['housing_median_age', 'total_rooms', 'total_bedrooms']].to_numpy()\n",
        "XTX = np.dot(X.T, X)\n",
        "XTX_inv = np.linalg.inv(XTX)\n",
        "y = np.array([950, 1300, 800, 1000, 1300])\n",
        "w = np.dot(np.dot(XTX_inv, X.T), y)\n",
        "round(w[-1],4)"
      ],
      "metadata": {
        "colab": {
          "base_uri": "https://localhost:8080/"
        },
        "id": "gau8yR6X5XSk",
        "outputId": "9db64f9a-2810-484a-f9e7-8244e1917a53"
      },
      "execution_count": 96,
      "outputs": [
        {
          "output_type": "execute_result",
          "data": {
            "text/plain": [
              "5.6992"
            ]
          },
          "metadata": {},
          "execution_count": 96
        }
      ]
    }
  ]
}