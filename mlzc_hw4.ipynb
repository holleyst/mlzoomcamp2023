{
  "nbformat": 4,
  "nbformat_minor": 0,
  "metadata": {
    "colab": {
      "provenance": []
    },
    "kernelspec": {
      "name": "python3",
      "display_name": "Python 3"
    },
    "language_info": {
      "name": "python"
    }
  },
  "cells": [
    {
      "cell_type": "markdown",
      "source": [
        "\n",
        "# Machine Learning Zoomcamp - Homework 4 - Holley St. Germain\n",
        "\n",
        "homework: https://github.com/DataTalksClub/machine-learning-zoomcamp/blob/master/cohorts/2023/04-evaluation/homework.md\n",
        "\n",
        "notebook on github: https://github.com/holleyst/mlzoomcamp2023/blob/main/mlzc_hw4.ipynb\n",
        "\n",
        "notebook on colab: https://colab.research.google.com/github/holleyst/mlzoomcamp2023/blob/main/mlzc_hw4.ipynb\n"
      ],
      "metadata": {
        "id": "esRi500cb7fS"
      }
    },
    {
      "cell_type": "code",
      "source": [
        "# import libraries and such\n",
        "import pandas as pd\n",
        "import numpy as np\n",
        "\n",
        "import matplotlib.pyplot as plt\n",
        "import seaborn as sns\n",
        "%matplotlib inline\n",
        "\n",
        "from sklearn.model_selection import train_test_split\n",
        "from sklearn.metrics import roc_auc_score, roc_curve\n",
        "from sklearn.feature_extraction import DictVectorizer\n",
        "from sklearn.linear_model import LogisticRegression\n"
      ],
      "metadata": {
        "id": "5isVjSlacOZ8"
      },
      "execution_count": 19,
      "outputs": []
    },
    {
      "cell_type": "markdown",
      "source": [
        "## Dataset\n",
        "car price dataset\n",
        "\n",
        "https://raw.githubusercontent.com/alexeygrigorev/mlbookcamp-code/master/chapter-02-car-price/data.csv\n",
        "\n",
        "## Features\n",
        "Use the following columns:\n",
        "*   Make\n",
        "*   Model\n",
        "*   Year\n",
        "*   Engine HP\n",
        "*   Engine Cylinders\n",
        "*   Transmission Type\n",
        "*   Vehicle Style\n",
        "*   highway MPG\n",
        "*   city mpg\n",
        "*   MSRP\n",
        "\n",
        "## Data Preparation\n",
        "*   Lowercase the column names and replace spaces with underscores\n",
        "*   Fill the missing values with 0\n",
        "*   Make the price binary (1 if above the average, 0 otherwise) - this will be our target variable above_average\n",
        "\n",
        "\n",
        "Split the data into 3 parts: train/validation/test with 60%/20%/20% distribution. Use train_test_split function for that with random_state=1\n",
        "\n"
      ],
      "metadata": {
        "id": "Wfnoauitc1Jo"
      }
    },
    {
      "cell_type": "code",
      "source": [
        "dataurl = 'https://raw.githubusercontent.com/alexeygrigorev/mlbookcamp-code/master/chapter-02-car-price/data.csv'\n",
        "hwcols = ['Make', 'Model', 'Year', 'Engine HP', 'Engine Cylinders', 'Transmission Type', 'Vehicle Style', 'highway MPG', 'city mpg', 'MSRP']\n",
        "\n",
        "df = pd.read_csv(dataurl, usecols=hwcols)\n",
        "\n",
        "df.columns = df.columns.str.replace(' ', '_').str.lower()\n",
        "df = df.fillna(0)\n",
        "\n",
        "# make price binary\n",
        "dfbin = df.copy()\n",
        "mean_price = dfbin.msrp.mean()\n",
        "dfbin['above_average'] = np.where(dfbin.msrp >= mean_price, 1, 0)\n",
        "\n",
        "# drop price from dataset\n",
        "dfbin = dfbin.drop('msrp', axis=1)\n",
        "\n",
        "# split and process data\n",
        "# df_train_full: 80%, df_test: 20%\n",
        "df_train_full, df_test = train_test_split(dfbin, test_size=0.2, random_state=1)\n",
        "# df_train: 75% of 80% = 60%, df_val: 25% of 80% = 20%\n",
        "df_train, df_val = train_test_split(df_train_full, test_size=0.25, random_state=1)\n",
        "\n",
        "df_train = df_train.reset_index(drop=True)\n",
        "df_val = df_val.reset_index(drop=True)\n",
        "df_test = df_test.reset_index(drop=True)\n",
        "\n",
        "y_train = df_train.above_average.values\n",
        "y_val = df_val.above_average.values\n",
        "y_test = df_test.above_average.values\n",
        "\n",
        "del df_train['above_average']\n",
        "del df_val['above_average']\n",
        "del df_test['above_average']"
      ],
      "metadata": {
        "id": "Q7oAT6d3pIrb"
      },
      "execution_count": 27,
      "outputs": []
    },
    {
      "cell_type": "markdown",
      "source": [
        "### Q1: ROC AUC feature importance\n",
        "\n",
        "ROC AUC could also be used to evaluate feature importance of numerical variables.\n",
        "\n",
        "  *   For each numerical variable, use it as score and compute AUC with the above_average variable\n",
        "  *   Use the training dataset for that\n",
        "\n",
        "If your AUC is < 0.5, invert this variable by putting \"-\" in front\n",
        "\n",
        "(e.g. -df_train['engine_hp'])\n",
        "\n",
        "AUC can go below 0.5 if the variable is negatively correlated with the target varialble. You can change the direction of the correlation by negating this variable - then negative correlation becomes positive.\n",
        "\n",
        "Which numerical variable (among the following 4) has the highest AUC?\n",
        "\n",
        "  *   engine_hp\n",
        "  *   engine_cylinders\n",
        "  *   highway_mpg\n",
        "  *   city_mpg\n",
        "\n",
        "**A1: engine_hp**\n"
      ],
      "metadata": {
        "id": "ZpgmZFdjevh1"
      }
    },
    {
      "cell_type": "code",
      "source": [
        "numcols = ['engine_hp', 'engine_cylinders', 'highway_mpg', 'city_mpg']\n",
        "\n",
        "# calculate ROC AUC\n",
        "for col in numcols:\n",
        "    auc = roc_auc_score(y_train, df_train[col])\n",
        "    if auc < 0.5:\n",
        "        auc = roc_auc_score(y_train, -df_train[col])\n",
        "    print(col, round(auc, 3))"
      ],
      "metadata": {
        "colab": {
          "base_uri": "https://localhost:8080/"
        },
        "id": "G9hznSh5f4vC",
        "outputId": "e8fd7d50-2cb9-4e20-cb55-b309cda88e9e"
      },
      "execution_count": 28,
      "outputs": [
        {
          "output_type": "stream",
          "name": "stdout",
          "text": [
            "engine_hp 0.917\n",
            "engine_cylinders 0.766\n",
            "highway_mpg 0.633\n",
            "city_mpg 0.673\n"
          ]
        }
      ]
    },
    {
      "cell_type": "markdown",
      "source": [
        "### Q2: Training the model\n",
        "\n",
        "Apply one-hot-encoding using DictVectorizer and train the logistic regression with these parameters:\n",
        "\n",
        "`LogisticRegression(solver='liblinear', C=1.0, max_iter=1000)`\n",
        "\n",
        "What's the AUC of this model on the validation dataset? (round to 3 digits)\n",
        "  *   0.678\n",
        "  *   0.779\n",
        "  *   0.878\n",
        "  *   0.979\n",
        "\n",
        "**A2: 0.979**"
      ],
      "metadata": {
        "id": "FynPGwdNqzdm"
      }
    },
    {
      "cell_type": "code",
      "source": [
        "train_dicts = df_train[df_train.columns].to_dict(orient='records')\n",
        "dv = DictVectorizer(sparse=False)\n",
        "X_train = dv.fit_transform(train_dicts)\n",
        "\n",
        "model = LogisticRegression(solver='liblinear', C=1.0, max_iter=1000)\n",
        "model.fit(X_train, y_train)\n",
        "\n",
        "val_dicts = df_val[df_train.columns].to_dict(orient='records')\n",
        "X_val = dv.transform(val_dicts)\n",
        "\n",
        "y_pred = model.predict_proba(X_val)[:, 1]\n",
        "\n",
        "print('%.3f' % roc_auc_score(y_val, y_pred))"
      ],
      "metadata": {
        "colab": {
          "base_uri": "https://localhost:8080/"
        },
        "id": "SyaBdS_ariu-",
        "outputId": "01c1f51c-2c91-4ab8-f86f-7e18a91d9993"
      },
      "execution_count": 34,
      "outputs": [
        {
          "output_type": "stream",
          "name": "stdout",
          "text": [
            "0.980\n"
          ]
        }
      ]
    },
    {
      "cell_type": "markdown",
      "source": [
        "### Q3: Precision and Recall\n",
        "\n",
        "Now let's compute precision and recall for our model\n",
        "  *   Evaluate the model on all thresholds from 0.0 to 1.0 with step 0.01\n",
        "  *   For each threshold, compute precision and recall\n",
        "  *   Plot them\n",
        "\n",
        "At which threshold precision and recall curves intersect?\n",
        "  *   0.28\n",
        "  *   0.48\n",
        "  *   0.68\n",
        "  *   0.88\n",
        "\n",
        "**A3:**"
      ],
      "metadata": {
        "id": "JJCuLGXNvnQk"
      }
    },
    {
      "cell_type": "code",
      "source": [],
      "metadata": {
        "id": "rVZmbczPwLGp"
      },
      "execution_count": null,
      "outputs": []
    }
  ]
}